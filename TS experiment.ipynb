{
 "cells": [
  {
   "cell_type": "code",
   "execution_count": 4,
   "metadata": {
    "collapsed": false
   },
   "outputs": [],
   "source": [
    "def isLeaf(node): # ts\n",
    "    if node.find('primary') is not None:\n",
    "        return False\n",
    "    else:\n",
    "        return True\n",
    "\n",
    "def getNote(node):\n",
    "    return node.find('head').find('chord').find('note').attrib['id'][3:]\n",
    "    \n",
    "def xml2dict(node):\n",
    "    obj = {}\n",
    "    if not isLeaf(node):\n",
    "        obj['children'] = []\n",
    "        if getNote(node.find('primary').find('ts')) > getNote(node.find('secondary').find('ts')):\n",
    "            obj['children'].append(xml2dict(node.find('secondary').find('ts')))\n",
    "            obj['children'].append(xml2dict(node.find('primary').find('ts')))\n",
    "        else:\n",
    "            obj['children'].append(xml2dict(node.find('primary').find('ts')))\n",
    "            obj['children'].append(xml2dict(node.find('secondary').find('ts')))\n",
    "    else:\n",
    "        obj['name'] = getNote(node)\n",
    "    return obj"
   ]
  },
  {
   "cell_type": "code",
   "execution_count": 6,
   "metadata": {
    "collapsed": false
   },
   "outputs": [
    {
     "name": "stdout",
     "output_type": "stream",
     "text": [
      "[{'children': [{'children': [{'children': [{'children': [{'children': [{'name': '1-1'}, {'name': '1-2'}]}, {'children': [{'children': [{'name': '2-1'}, {'name': '2-2'}]}, {'name': '2-3'}]}]}, {'children': [{'children': [{'name': '2-4'}, {'children': [{'name': '2-5'}, {'name': '2-6'}]}]}, {'name': '3-1'}]}]}, {'children': [{'children': [{'children': [{'children': [{'name': '3-3'}, {'name': '3-4'}]}, {'name': '3-5'}]}, {'name': '4-1'}]}, {'children': [{'children': [{'children': [{'name': '4-3'}, {'name': '4-4'}]}, {'name': '4-5'}]}, {'name': '5-1'}]}]}]}, {'children': [{'children': [{'children': [{'children': [{'name': '5-3'}, {'children': [{'name': '5-4'}, {'name': '5-5'}]}]}, {'children': [{'children': [{'name': '6-1'}, {'name': '6-2'}]}, {'name': '6-3'}]}]}, {'children': [{'children': [{'name': '6-4'}, {'children': [{'name': '6-5'}, {'name': '6-6'}]}]}, {'name': '7-1'}]}]}, {'children': [{'children': [{'children': [{'children': [{'name': '7-3'}, {'name': '7-4'}]}, {'name': '7-5'}]}, {'name': '8-1'}]}, {'children': [{'children': [{'name': '8-3'}, {'children': [{'name': '8-4'}, {'name': '8-5'}]}]}, {'name': '9-1'}]}]}]}]}]\n"
     ]
    }
   ],
   "source": [
    "# READ TS-XML\n",
    "import xml.etree.ElementTree as ET\n",
    "xmldoc = ET.parse('gttm/03/TS-03.xml')\n",
    "root = xmldoc.getroot()\n",
    "tree = []\n",
    "tree.append(xml2dict(root.find('ts')))\n",
    "print(tree)"
   ]
  },
  {
   "cell_type": "code",
   "execution_count": null,
   "metadata": {
    "collapsed": true
   },
   "outputs": [],
   "source": []
  }
 ],
 "metadata": {
  "kernelspec": {
   "display_name": "Python [Root]",
   "language": "python",
   "name": "Python [Root]"
  },
  "language_info": {
   "codemirror_mode": {
    "name": "ipython",
    "version": 2
   },
   "file_extension": ".py",
   "mimetype": "text/x-python",
   "name": "python",
   "nbconvert_exporter": "python",
   "pygments_lexer": "ipython2",
   "version": "2.7.12"
  }
 },
 "nbformat": 4,
 "nbformat_minor": 0
}
