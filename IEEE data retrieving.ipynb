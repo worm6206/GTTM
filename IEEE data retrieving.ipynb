{
 "cells": [
  {
   "cell_type": "code",
   "execution_count": 75,
   "metadata": {
    "collapsed": false
   },
   "outputs": [],
   "source": [
    "import xml.etree.ElementTree as ET\n",
    "import urllib2\n",
    "url = 'http://ieeexplore.ieee.org/gateway/ipsSearch.jsp?doi='\n",
    "doi = '10.1109/TVCG.2016.2598545'\n",
    "xmldoc = ET.parse(urllib2.urlopen(urllib2.Request(url+doi, headers={\"Accept\" : \"application/xml\"})))\n",
    "root = xmldoc.getroot()"
   ]
  },
  {
   "cell_type": "code",
   "execution_count": 76,
   "metadata": {
    "collapsed": false
   },
   "outputs": [
    {
     "name": "stdout",
     "output_type": "stream",
     "text": [
      "What do Constraint Programming Users Want to See? Exploring the role of Visualisation in Profiling of Models and Search\n",
      "Sarah Goodwin;  Christopher Mears;  Tim Dwyer;  Maria Garcia de la Banda;  Guido Tack;  Mark Wallace\n"
     ]
    }
   ],
   "source": [
    "print root.findall('.//title')[0].text\n",
    "print root.findall('.//authors')[0].text"
   ]
  },
  {
   "cell_type": "code",
   "execution_count": 77,
   "metadata": {
    "collapsed": false
   },
   "outputs": [
    {
     "name": "stdout",
     "output_type": "stream",
     "text": [
      "Computational modeling, Conferences, Creativity, Programming, Prototypes, Search problems, Visualization\n"
     ]
    }
   ],
   "source": [
    "key = \"\"\n",
    "for x in root.findall('.//term'):\n",
    "    key += x.text + \", \"\n",
    "print key[:-2]"
   ]
  },
  {
   "cell_type": "code",
   "execution_count": 78,
   "metadata": {
    "collapsed": false
   },
   "outputs": [
    {
     "name": "stdout",
     "output_type": "stream",
     "text": [
      "Constraint programming allows difficult combinatorial problems to be modelled declaratively and solved automatically. Advances in solver technologies over recent years have allowed the successful use of constraint programming in many application areas. However, when a particular solver&#x2019;s search for a solution takes too long, the complexity of the constraint program execution hinders the programmer&#x2019;s ability to profile that search and understand how it relates to their model. Therefore, effective tools to support such profiling and allow users of constraint programming technologies to refine their model or experiment with different search parameters are essential. This paper details the first user-centred design process for visual profiling tools in this domain. We report on: our insights and opportunities identified through an on-line questionnaire and a creativity workshop with domain experts carried out to elicit requirements for analytical and visual profiling techniques; our designs and functional prototypes realising such techniques; and case studies demonstrating how these techniques shed light on the behaviour of the solvers in practice.\n"
     ]
    }
   ],
   "source": [
    "print root.findall('.//abstract')[0].text"
   ]
  },
  {
   "cell_type": "code",
   "execution_count": 88,
   "metadata": {
    "collapsed": false
   },
   "outputs": [],
   "source": [
    "dois = ['10.1109/TVCG.2016.2598870','10.1109/TVCG.2016.2599043','10.1109/TVCG.2016.2599016','10.1109/TVCG.2016.2599214','10.1109/TVCG.2016.2598795','10.1109/TVCG.2016.2598602','10.1109/TVCG.2016.2598430','10.1109/TVCG.2016.2598791','10.1109/TVCG.2016.2598866','10.1109/TVCG.2016.2599040','10.1109/TVCG.2016.2599049','10.1109/TVCG.2016.2598998','10.1109/TVCG.2016.2598448','10.1109/TVCG.2016.2599217','10.1109/TVCG.2016.2598604','10.1109/TVCG.2016.2599017','10.1109/TVCG.2016.2598824','10.1109/TVCG.2016.2599041','10.1109/TVCG.2016.2598826','10.1109/TVCG.2016.2598825','10.1109/TVCG.2016.2599042','10.1109/TVCG.2016.2598789','10.1109/TVCG.2016.2598868','10.1109/TVCG.2016.2599018','10.1109/TVCG.2016.2598585','10.1109/TVCG.2016.2598603','10.1109/TVCG.2016.2598827','10.1109/TVCG.2016.2598869','10.1109/TVCG.2016.2598790','10.1109/TVCG.2016.2599211']"
   ]
  },
  {
   "cell_type": "code",
   "execution_count": 92,
   "metadata": {
    "collapsed": false
   },
   "outputs": [
    {
     "name": "stdout",
     "output_type": "stream",
     "text": [
      "A Fractional Cartesian Composition Model for Semi-spatial Comparative Visualization Design\n",
      "A Versatile and Efficient GPU Data Structure for Spatial Indexing\n",
      "Backward Finite-Time Lyapunov Exponents in Inertial Flows\n",
      "Categorical Colormap Optimization with Visualization Case Studies\n",
      "Combined Visualization of Vessel Deformation and Hemodynamics in Cerebral Aneurysms\n",
      "Comparing Cross-Sections and 3D Renderings for Surface Matching Tasks using Physical Ground Truths\n",
      "Correlated Photon Mapping for Interactive Global Illumination of Time-Varying Volumetric Data\n",
      "Corresponding Supine and Prone Colon Visualization Using Eigenfunction Analysis and Fold Modeling\n",
      "Decal-maps: Real-Time Layering of Decals on Surfaces for Multivariate Visualization\n",
      "Direct Multifield Volume Ray Casting of Fiber Surfaces\n",
      "GlyphLens: View-dependent Occlusion Management in the Interactive Glyph Visualization\n",
      "Glyphs for General Second-Order 2D and 3D Tensors\n",
      "Hairy Slices: Evaluating the Perceptual Effectiveness of Cutting\n",
      "Hybrid Tactile/Tangible Interaction for 3D Data Exploration\n",
      "In Situ Distribution Guided Analysis and Visualization of Transonic Jet Engine Simulations\n",
      "Jacobi Fiber Surfaces for Bivariate Reeb Space Computation\n",
      "Molecular Surface Maps\n",
      "OSPRay – A CPU Ray Tracing Framework for Scientific Visualization\n",
      "PelVis: Atlas-based Surgical Planning for Oncological Pelvic Surgery\n",
      "Physics-based Visual Characterization of Molecular Interaction Forces\n",
      "Progressive Direct Volume-to-Volume Transformation\n",
      "Synteny Explorer: An Interactive Visualization Application for Teaching Genome Evolution\n",
      "Time-hierarchical Clustering and Visualization of Weather Forecast Ensembles\n",
      "Topological Analysis of Inertial Dynamics\n",
      "Urban Pulse: Capturing the Rhythm of Cities\n",
      "Visualization and Extraction of Carvings for Heritage Conservation\n",
      "Visualization as Seen Through its Research Paper Keywords\n",
      "Visualization of Time-Varying Weather Ensembles Across Multiple Resolutions\n",
      "Visualizing Shape Deformations with Variation of Geometric Spectrum\n",
      "Vol2velle: Printable Interactive Volume Visualization\n",
      "\n",
      "\n",
      "DONE\n",
      "\n",
      "\n"
     ]
    }
   ],
   "source": [
    "from HTMLParser import HTMLParser\n",
    "h = HTMLParser()\n",
    "for x in dois:\n",
    "    while True:\n",
    "        root = ET.parse(urllib2.urlopen(urllib2.Request(url+x, headers={\"Accept\" : \"application/xml\"}))).getroot()\n",
    "        if len(root.findall('.//abstract')) != 0:\n",
    "            break\n",
    "#     key = \"\"\n",
    "#     for x in root.findall('.//term'):\n",
    "#         key += x.text + \", \"\n",
    "#     print key[:-2]\n",
    "    print h.unescape(root.findall('.//title')[0].text)\n",
    "print \"\\n\\nDONE\\n\\n\""
   ]
  },
  {
   "cell_type": "code",
   "execution_count": 68,
   "metadata": {
    "collapsed": false
   },
   "outputs": [
    {
     "data": {
      "text/plain": [
       "'An%20Evaluation%20of%20Visual%20Search%20Support%20in%20Maps%20'"
      ]
     },
     "execution_count": 68,
     "metadata": {},
     "output_type": "execute_result"
    }
   ],
   "source": [
    "import urllib\n",
    "urllib.quote('An Evaluation of Visual Search Support in Maps ')"
   ]
  },
  {
   "cell_type": "code",
   "execution_count": null,
   "metadata": {
    "collapsed": true
   },
   "outputs": [],
   "source": []
  }
 ],
 "metadata": {
  "anaconda-cloud": {},
  "kernelspec": {
   "display_name": "Python [Root]",
   "language": "python",
   "name": "Python [Root]"
  },
  "language_info": {
   "codemirror_mode": {
    "name": "ipython",
    "version": 2
   },
   "file_extension": ".py",
   "mimetype": "text/x-python",
   "name": "python",
   "nbconvert_exporter": "python",
   "pygments_lexer": "ipython2",
   "version": "2.7.12"
  }
 },
 "nbformat": 4,
 "nbformat_minor": 0
}
