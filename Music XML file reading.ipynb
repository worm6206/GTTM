{
 "cells": [
  {
   "cell_type": "code",
   "execution_count": 1,
   "metadata": {
    "collapsed": false
   },
   "outputs": [],
   "source": [
    "import xml.etree.ElementTree as ET\n",
    "xmldoc = ET.parse('xml/03_bagatelle@20\\'fur@20elise\\'@20woo.59.xml')\n",
    "root = xmldoc.getroot()"
   ]
  },
  {
   "cell_type": "code",
   "execution_count": 2,
   "metadata": {
    "collapsed": false
   },
   "outputs": [
    {
     "name": "stdout",
     "output_type": "stream",
     "text": [
      "('identification', {})\n",
      "('part-list', {})\n",
      "('part', {'id': 'P1'})\n"
     ]
    }
   ],
   "source": [
    "for child in root:\n",
    "    print(child.tag, child.attrib)"
   ]
  },
  {
   "cell_type": "code",
   "execution_count": 3,
   "metadata": {
    "collapsed": false
   },
   "outputs": [
    {
     "name": "stdout",
     "output_type": "stream",
     "text": [
      "('measure', {'number': '1'})\n",
      "('measure', {'number': '2'})\n",
      "('measure', {'number': '3'})\n",
      "('measure', {'number': '4'})\n",
      "('measure', {'number': '5'})\n",
      "('measure', {'number': '6'})\n",
      "('measure', {'number': '7'})\n",
      "('measure', {'number': '8'})\n",
      "('measure', {'number': '9'})\n"
     ]
    }
   ],
   "source": [
    "for child in root.find('part'):\n",
    "    print(child.tag, child.attrib)"
   ]
  },
  {
   "cell_type": "code",
   "execution_count": 4,
   "metadata": {
    "collapsed": false
   },
   "outputs": [
    {
     "name": "stdout",
     "output_type": "stream",
     "text": [
      "9\n"
     ]
    }
   ],
   "source": [
    "measurelist = [x for x in root.find('part')]\n",
    "print len(measurelist)"
   ]
  },
  {
   "cell_type": "code",
   "execution_count": 5,
   "metadata": {
    "collapsed": false
   },
   "outputs": [
    {
     "name": "stdout",
     "output_type": "stream",
     "text": [
      "40\n"
     ]
    }
   ],
   "source": [
    "notelist = []\n",
    "for x in root.find('part'):\n",
    "    for y in x.findall('note'):\n",
    "        notelist.append(y)\n",
    "print len(notelist)"
   ]
  },
  {
   "cell_type": "code",
   "execution_count": 6,
   "metadata": {
    "collapsed": false
   },
   "outputs": [
    {
     "name": "stdout",
     "output_type": "stream",
     "text": [
      "Duration\n",
      "40\n",
      "[1, 1, 1, 1, 1, 1, 1, 1, 2, -1, 1, 1, 1, 2, -1, 1, 1, 1, 2, -1, 1, 1, 1, 1, 1, 1, 1, 1, 1, 2, -1, 1, 1, 1, 2, -1, 1, 1, 1, 4]\n"
     ]
    }
   ],
   "source": [
    "# Duration calculation\n",
    "#   - Negative duration indicates rests\n",
    "\n",
    "list_duration = []\n",
    "for note in notelist:\n",
    "    value = int(note.findall('.//duration')[0].text)\n",
    "    if note.find('rest')!=None:\n",
    "        list_duration.append( -1 * value ) # If is rest, add '-' before duration\n",
    "    else:\n",
    "        list_duration.append( value ) # else, just put duration\n",
    "\n",
    "print \"Duration\"\n",
    "print len(list_duration)\n",
    "print list_duration"
   ]
  },
  {
   "cell_type": "code",
   "execution_count": 7,
   "metadata": {
    "collapsed": false
   },
   "outputs": [
    {
     "name": "stdout",
     "output_type": "stream",
     "text": [
      "Fifths:  0 [0, 0, 0, 0, 0, 0, 0]\n",
      "35\n",
      "[64, 63, 64, 63, 64, 59, 62, 60, 57, 48, 52, 57, 59, 52, 56, 59, 60, 52, 64, 63, 64, 63, 64, 59, 62, 60, 57, 48, 52, 57, 59, 52, 60, 59, 57]\n"
     ]
    }
   ],
   "source": [
    "# Pitch calculation\n",
    "list_pitch = []\n",
    "step_list = ['C','D','E','F','G','A','B']\n",
    "step_value = {'C':0,'D':2,'E':4,'F':5,'G':7,'A':9,'B':11}\n",
    "shift_list = [0]*7\n",
    "\n",
    "# Fifths, take care of global shifts\n",
    "fifths = int(root.findall('.//fifths')[0].text)\n",
    "if not(fifths >= -7 and fifths <= 7):\n",
    "    print \"[ERROR] FIFTHS ERROR\"\n",
    "elif fifths > 0:\n",
    "    if fifths >= 1:\n",
    "        shift_list[step_list.index(\"F\")] = 1\n",
    "    if fifths >= 2:\n",
    "        shift_list[step_list.index(\"C\")] = 1\n",
    "    if fifths >= 3:\n",
    "        shift_list[step_list.index(\"G\")] = 1\n",
    "    if fifths >= 4:\n",
    "        shift_list[step_list.index(\"D\")] = 1\n",
    "    if fifths >= 5:\n",
    "        shift_list[step_list.index(\"A\")] = 1\n",
    "    if fifths >= 6:\n",
    "        shift_list[step_list.index(\"E\")] = 1\n",
    "    if fifths == 7:\n",
    "        shift_list[step_list.index(\"B\")] = 1\n",
    "elif fifths < 0:\n",
    "    if fifths <= -1:\n",
    "        shift_list[step_list.index(\"B\")] = -1\n",
    "    if fifths <= -2:\n",
    "        shift_list[step_list.index(\"E\")] = -1\n",
    "    if fifths <= -3:\n",
    "        shift_list[step_list.index(\"A\")] = -1\n",
    "    if fifths <= -4:\n",
    "        shift_list[step_list.index(\"D\")] = -1\n",
    "    if fifths <= -5:\n",
    "        shift_list[step_list.index(\"G\")] = -1\n",
    "    if fifths <= -6:\n",
    "        shift_list[step_list.index(\"C\")] = -1\n",
    "    if fifths == -7:\n",
    "        shift_list[step_list.index(\"F\")] = -1\n",
    "        \n",
    "print \"Fifths: \",fifths,shift_list\n",
    "\n",
    "# Get pitches and iterate\n",
    "pitchlist = root.findall('.//pitch')\n",
    "for pitch in pitchlist:\n",
    "    if len(pitch.findall('.//alter')):\n",
    "        alter = int(pitch.findall('.//alter')[0].text)\n",
    "    else:\n",
    "        alter = 0\n",
    "    step = pitch.findall('.//step')[0].text\n",
    "    octave = pitch.findall('octave')[0].text\n",
    "\n",
    "    list_pitch.append(step_value[step] + int(octave)*12 + alter)\n",
    "\n",
    "print len(list_pitch)\n",
    "print list_pitch"
   ]
  },
  {
   "cell_type": "code",
   "execution_count": 8,
   "metadata": {
    "collapsed": false
   },
   "outputs": [
    {
     "name": "stdout",
     "output_type": "stream",
     "text": [
      "Offset-Onset interval\n",
      "35\n",
      "[0, 0, 0, 0, 0, 0, 0, 0, 1, 0, 0, 0, 1, 0, 0, 0, 1, 0, 0, 0, 0, 0, 0, 0, 0, 0, 1, 0, 0, 0, 1, 0, 0, 0, 0]\n"
     ]
    }
   ],
   "source": [
    "# the OOI (Offset-Onset interval)\n",
    "#   - Only for notes, not rests\n",
    "list_OOI = []\n",
    "OOI_sum = 0\n",
    "for index,obj in enumerate(list_duration):\n",
    "    if(obj < 0):\n",
    "        OOI_sum += int(obj)\n",
    "    else:\n",
    "        list_OOI.append(-1*OOI_sum)\n",
    "        OOI_sum = 0\n",
    "        \n",
    "# Fix the loop, pop first and add 0\n",
    "list_OOI.pop(0)\n",
    "list_OOI.append(0)\n",
    "\n",
    "print \"Offset-Onset interval\"\n",
    "print len(list_OOI)\n",
    "print list_OOI"
   ]
  },
  {
   "cell_type": "code",
   "execution_count": 9,
   "metadata": {
    "collapsed": false
   },
   "outputs": [
    {
     "name": "stdout",
     "output_type": "stream",
     "text": [
      "Inter-Onset Interval\n",
      "35\n",
      "[1, 1, 1, 1, 1, 1, 1, 1, 3, 1, 1, 1, 3, 1, 1, 1, 3, 1, 1, 1, 1, 1, 1, 1, 1, 1, 3, 1, 1, 1, 3, 1, 1, 1, 4]\n"
     ]
    }
   ],
   "source": [
    "# the IOI (Inter-Onset Interval)\n",
    "list_IOI = []\n",
    "IOI_sum = 0\n",
    "for index,obj in enumerate(list_duration):\n",
    "    if(obj > 0):\n",
    "        list_IOI.append(IOI_sum)\n",
    "        IOI_sum = 0\n",
    "    IOI_sum += abs(obj)\n",
    "    \n",
    "# Fix the loop, pop first and add the last duration back\n",
    "list_IOI.pop(0)\n",
    "list_IOI.append(list_duration[len(list_duration)-1])\n",
    "\n",
    "print \"Inter-Onset Interval\"\n",
    "print len(list_IOI)\n",
    "print list_IOI"
   ]
  },
  {
   "cell_type": "code",
   "execution_count": 10,
   "metadata": {
    "collapsed": false
   },
   "outputs": [
    {
     "name": "stdout",
     "output_type": "stream",
     "text": [
      "Register (pitch difference)\n",
      "35\n",
      "[-1, 1, -1, 1, -5, 3, -2, -3, -9, 4, 5, 2, -7, 4, 3, 1, -8, 12, -1, 1, -1, 1, -5, 3, -2, -3, -9, 4, 5, 2, -7, 8, -1, -2, 0]\n"
     ]
    }
   ],
   "source": [
    "# the register (pitch difference)\n",
    "list_register = []\n",
    "for index,obj in enumerate(list_pitch):\n",
    "    if index != len(list_pitch)-1: # n+1 - n\n",
    "        list_register.append(list_pitch[index+1]-obj)\n",
    "    else: # give the last one 0\n",
    "        list_register.append(0)\n",
    "\n",
    "print \"Register (pitch difference)\"\n",
    "print len(list_register)\n",
    "print list_register"
   ]
  },
  {
   "cell_type": "code",
   "execution_count": 11,
   "metadata": {
    "collapsed": false
   },
   "outputs": [
    {
     "name": "stdout",
     "output_type": "stream",
     "text": [
      "Difference in duration, beta\n",
      "35\n",
      "[0, 0, 0, 0, 0, 0, 0, 2, 2, 0, 0, 2, 2, 0, 0, 2, 2, 0, 0, 0, 0, 0, 0, 0, 0, 2, 2, 0, 0, 2, 2, 0, 0, 3, 0]\n"
     ]
    }
   ],
   "source": [
    "# the difference in duration, beta\n",
    "list_beta = []\n",
    "for index,obj in enumerate(list_IOI):\n",
    "    if index != len(list_IOI)-1:\n",
    "        list_beta.append(abs(list_IOI[index+1]-obj))\n",
    "    else:\n",
    "        list_beta.append(0)\n",
    "\n",
    "print \"Difference in duration, beta\"\n",
    "print len(list_beta)\n",
    "print list_beta        "
   ]
  },
  {
   "cell_type": "code",
   "execution_count": 12,
   "metadata": {
    "collapsed": false
   },
   "outputs": [
    {
     "name": "stdout",
     "output_type": "stream",
     "text": [
      "GPR2a\n",
      "35\n",
      "[0, 0, 0, 0, 0, 0, 0, 0, 1, 0, 0, 0, 1, 0, 0, 0, 1, 0, 0, 0, 0, 0, 0, 0, 0, 0, 1, 0, 0, 0, 1, 0, 0, 0, 0]\n"
     ]
    }
   ],
   "source": [
    "# GPR2a (slur/rest)\n",
    "list_GPR2a = []\n",
    "for index,obj in enumerate(list_OOI):\n",
    "    # Determine previous and next OOI\n",
    "    if(index == 0):\n",
    "        previous = 0\n",
    "        next = list_OOI[index+1]\n",
    "    elif(index == len(list_OOI)-1):\n",
    "        previous = list_OOI[index-1]\n",
    "        next = 0\n",
    "    else:\n",
    "        previous = list_OOI[index-1]\n",
    "        next = list_OOI[index+1]\n",
    "    # Calculate GPR2a\n",
    "    if(previous < obj and obj > next):\n",
    "        list_GPR2a.append(1)\n",
    "    else:\n",
    "        list_GPR2a.append(0)\n",
    "\n",
    "print \"GPR2a\"\n",
    "print len(list_GPR2a)\n",
    "print list_GPR2a"
   ]
  },
  {
   "cell_type": "code",
   "execution_count": 13,
   "metadata": {
    "collapsed": false
   },
   "outputs": [
    {
     "name": "stdout",
     "output_type": "stream",
     "text": [
      "GPR2b\n",
      "35\n",
      "[0, 0, 0, 0, 0, 0, 0, 0, 1, 0, 0, 0, 1, 0, 0, 0, 1, 0, 0, 0, 0, 0, 0, 0, 0, 0, 1, 0, 0, 0, 1, 0, 0, 0, 1]\n"
     ]
    }
   ],
   "source": [
    "# GPR2b (attack point)\n",
    "list_GPR2b = []\n",
    "for index,obj in enumerate(list_IOI):\n",
    "    if(index == 0):\n",
    "        previous = 0\n",
    "        next = list_IOI[index+1]\n",
    "    elif(index == len(list_IOI)-1):\n",
    "        previous = list_IOI[index-1]\n",
    "        next = 0\n",
    "    else:\n",
    "        previous = list_IOI[index-1]\n",
    "        next = list_IOI[index+1]\n",
    "    if(previous < obj and obj > next):\n",
    "        list_GPR2b.append(1)\n",
    "    else:\n",
    "        list_GPR2b.append(0)\n",
    "\n",
    "print \"GPR2b\"\n",
    "print len(list_GPR2b)\n",
    "print list_GPR2b"
   ]
  },
  {
   "cell_type": "code",
   "execution_count": 14,
   "metadata": {
    "collapsed": false
   },
   "outputs": [
    {
     "name": "stdout",
     "output_type": "stream",
     "text": [
      "GPR3a\n",
      "35\n",
      "[0, 0, 0, 0, 1, 0, 0, 0, 1, 0, 1, 0, 1, 0, 0, 0, 0, 1, 0, 0, 0, 0, 1, 0, 0, 0, 1, 0, 1, 0, 0, 1, 0, 1, 0]\n"
     ]
    }
   ],
   "source": [
    "# GPR3a (register)\n",
    "list_GPR3a = []\n",
    "for index,obj in enumerate(list_register):\n",
    "    if(index == 0):\n",
    "        previous = 0\n",
    "        next = list_register[index+1]\n",
    "    elif(index == len(list_register)-1):\n",
    "        previous = list_register[index-1]\n",
    "        next = 0\n",
    "    else:\n",
    "        previous = list_register[index-1]\n",
    "        next = list_register[index+1]\n",
    "    if(abs(previous) < abs(obj) and abs(obj) > abs(next)):\n",
    "        list_GPR3a.append(1)\n",
    "    else:\n",
    "        list_GPR3a.append(0)\n",
    "\n",
    "print \"GPR3a\"\n",
    "print len(list_GPR3a)\n",
    "print list_GPR3a"
   ]
  },
  {
   "cell_type": "code",
   "execution_count": 15,
   "metadata": {
    "collapsed": true
   },
   "outputs": [],
   "source": [
    "# GPR3b and GPR3c are not included in Music XML format, not going to implement"
   ]
  },
  {
   "cell_type": "code",
   "execution_count": 16,
   "metadata": {
    "collapsed": false
   },
   "outputs": [
    {
     "name": "stdout",
     "output_type": "stream",
     "text": [
      "GPR3d\n",
      "35\n",
      "[0, 0, 0, 0, 0, 0, 0, 0, 0, 0, 0, 0, 0, 0, 0, 0, 0, 0, 0, 0, 0, 0, 0, 0, 0, 0, 0, 0, 0, 0, 0, 0, 0, 1, 0]\n"
     ]
    }
   ],
   "source": [
    "# GPR3d (length)\n",
    "list_GPR3d = []\n",
    "for index,obj in enumerate(list_beta):\n",
    "    if(index == 0):\n",
    "        previous = 0\n",
    "        next = list_beta[index+1]\n",
    "    elif(index == len(list_beta)-1):\n",
    "        previous = list_beta[index-1]\n",
    "        next = 0\n",
    "    else:\n",
    "        previous = list_beta[index-1]\n",
    "        next = list_beta[index+1]\n",
    "    if(previous == 0 and obj != 0 and next == 0):\n",
    "        list_GPR3d.append(1)\n",
    "    else:\n",
    "        list_GPR3d.append(0)\n",
    "\n",
    "print \"GPR3d\"\n",
    "print len(list_GPR3d)\n",
    "print list_GPR3d"
   ]
  },
  {
   "cell_type": "code",
   "execution_count": 17,
   "metadata": {
    "collapsed": false
   },
   "outputs": [
    {
     "name": "stdout",
     "output_type": "stream",
     "text": [
      "[0, 0, 0, 0, 0, 0, 0, 0, 1, 0, 0, 0, 1, 0, 0, 0, 1, 0, 0, 0, 0, 0, 0, 0, 0, 0, 1, 0, 0, 0, 1, 0, 0, 0, 0]\n",
      "[0, 0, 0, 0, 0, 0, 0, 0, 0, 0, 0, 0, 0, 0, 0, 0, 0, 0, 0, 0, 0, 0, 0, 0, 0, 0, 0, 0, 0, 0, 0, 0, 0, 0, 0]\n",
      "[0, 0, 0, 0, 0, 0, 0, 0, 0, 0, 0, 0, 0, 0, 0, 0, 0, 0, 0, 0, 0, 0, 0, 0, 0, 0, 0, 0, 0, 0, 0, 0, 0, 0, 0]\n",
      "[0, 0, 0, 0, 0, 0, 0, 0, 0, 0, 0, 0, 0, 0, 0, 0, 0, 0, 0, 0, 0, 0, 0, 0, 0, 0, 0, 0, 0, 0, 0, 0, 0, 1, 0]\n",
      "[0, 0, 0, 0, 0, 0, 0, 0, 1, 0, 0, 0, 1, 0, 0, 0, 1, 0, 0, 0, 0, 0, 0, 0, 0, 0, 1, 0, 0, 0, 1, 0, 0, 1, 0]\n",
      "GPR4\n",
      "35\n",
      "[0, 0, 0, 0, 0, 0, 0, 0, 1, 0, 0, 0, 1, 0, 0, 0, 1, 0, 0, 0, 0, 0, 0, 0, 0, 0, 1, 0, 0, 0, 1, 0, 0, 1, 0]\n"
     ]
    }
   ],
   "source": [
    "# GPR4\n",
    "# P_OOI\n",
    "T_GPR4 = 0\n",
    "list_P_OOI = []\n",
    "for index,obj in enumerate(list_OOI):\n",
    "    # Determine previous and next OOI\n",
    "    if(index == 0):\n",
    "        previous = 0\n",
    "        next = list_OOI[index+1]\n",
    "    elif(index == len(list_OOI)-1):\n",
    "        previous = list_OOI[index-1]\n",
    "        next = 0\n",
    "    else:\n",
    "        previous = list_OOI[index-1]\n",
    "        next = list_OOI[index+1]\n",
    "    # Calculate GPR2a\n",
    "    if((previous + obj + next)>0):\n",
    "        list_P_OOI.append(obj/(previous + obj + next))\n",
    "    else:\n",
    "        list_P_OOI.append(0)\n",
    "print list_P_OOI\n",
    "# P_IOI\n",
    "list_P_IOI = []\n",
    "for index,obj in enumerate(list_IOI):\n",
    "    if(index == 0):\n",
    "        previous = 0\n",
    "        next = list_IOI[index+1]\n",
    "    elif(index == len(list_IOI)-1):\n",
    "        previous = list_IOI[index-1]\n",
    "        next = 0\n",
    "    else:\n",
    "        previous = list_IOI[index-1]\n",
    "        next = list_IOI[index+1]\n",
    "    list_P_IOI.append(obj/(previous + obj + next))\n",
    "print list_P_IOI\n",
    "# P_register\n",
    "list_P_register = []\n",
    "for index,obj in enumerate(list_register):\n",
    "    if(index == 0):\n",
    "        previous = 0\n",
    "        next = list_register[index+1]\n",
    "    elif(index == len(list_register)-1):\n",
    "        previous = list_register[index-1]\n",
    "        next = 0\n",
    "    else:\n",
    "        previous = list_register[index-1]\n",
    "        next = list_register[index+1]\n",
    "    if((abs(previous) + abs(obj) + abs(next))>0):\n",
    "        list_P_register.append(abs(obj)/(abs(previous) + abs(obj) + abs(next)))\n",
    "    else:\n",
    "        list_P_register.append(0)\n",
    "print list_P_register\n",
    "# P_beta\n",
    "list_P_beta = []\n",
    "for index,obj in enumerate(list_beta):\n",
    "    if(index == 0):\n",
    "        previous = 0\n",
    "        next = list_beta[index+1]\n",
    "    elif(index == len(list_beta)-1):\n",
    "        previous = list_beta[index-1]\n",
    "        next = 0\n",
    "    else:\n",
    "        previous = list_beta[index-1]\n",
    "        next = list_beta[index+1]\n",
    "    if((previous + obj + next)>0):\n",
    "        list_P_beta.append(obj/(previous + obj + next))\n",
    "    else:\n",
    "        list_P_beta.append(0)\n",
    "print list_P_beta\n",
    "# GPR4\n",
    "list_GPR4 = []\n",
    "for index,obj in enumerate(list_OOI):\n",
    "    if(max(list_P_OOI[index],list_P_IOI[index],list_P_register[index],list_P_beta[index])>T_GPR4):\n",
    "        list_GPR4.append(1)\n",
    "    else:\n",
    "        list_GPR4.append(0)\n",
    "print list_GPR4\n",
    "        \n",
    "print \"GPR4\"\n",
    "print len(list_GPR4)\n",
    "print list_GPR4"
   ]
  },
  {
   "cell_type": "code",
   "execution_count": 18,
   "metadata": {
    "collapsed": false
   },
   "outputs": [
    {
     "name": "stdout",
     "output_type": "stream",
     "text": [
      "48\n"
     ]
    }
   ],
   "source": [
    "# GPR5\n",
    "# Questionable\n",
    "\n",
    "import numpy\n",
    "total_duration = sum([abs(x) for x in list_duration])\n",
    "sigma=numpy.std(range(0,total_duration),ddof=0)\n",
    "list_norm = [1/(sigma * numpy.sqrt(2 * numpy.pi)) * numpy.exp( - (x - total_duration/2)**2 / (2 * sigma**2) ) for x in range(0,total_duration)]\n",
    "normed = [format(x/(max(list_norm)-min(list_norm))-min(list_norm/(max(list_norm)-min(list_norm))), '.2f') for x in list_norm]\n",
    "print len(normed)"
   ]
  },
  {
   "cell_type": "code",
   "execution_count": 65,
   "metadata": {
    "collapsed": false,
    "scrolled": true
   },
   "outputs": [],
   "source": [
    "# function for GPR6, G(m,n,r)\n",
    "\n",
    "Wm = 0.5\n",
    "Wl = 0.5\n",
    "Ws = 0.5\n",
    "L = len(gpr6_temp)\n",
    "\n",
    "# gpr6_temp is a list denoting where has a note, with 1, and where there is no note, woth 0\n",
    "gpr6_temp = [0] * total_duration\n",
    "nmr_sum = 0\n",
    "nmr_next = 0\n",
    "for y in list_duration:\n",
    "    nmr_sum += nmr_next\n",
    "    nmr_next = abs(y)\n",
    "    if(y > 0):\n",
    "        gpr6_temp[nmr_sum] = 1\n",
    "\n",
    "def N(m,r):\n",
    "    return sum(gpr6_temp[m-1:m-1+r])\n",
    "        \n",
    "\n",
    "def O(m,n,r):\n",
    "#     print gpr6_temp[m-1:m-1+r]\n",
    "#     print gpr6_temp[n-1:n-1+r]\n",
    "    temp_out = 0\n",
    "    for index,obj in enumerate(gpr6_temp[m-1:m-1+r]):\n",
    "        if gpr6_temp[m-1:m-1+r][index] == 1 and gpr6_temp[n-1:n-1+r][index] == 1:\n",
    "            temp_out+=2\n",
    "    return temp_out\n",
    "\n",
    "def P(m,n,r):\n",
    "#     print gpr6_temp[m-1:m-1+r]\n",
    "#     print gpr6_temp[n-1:n-1+r]\n",
    "    temp_out = 0\n",
    "    for index,obj in enumerate(gpr6_temp[m-1:m-1+r]):\n",
    "        if gpr6_temp[m-1:m-1+r][index] == 1 and gpr6_temp[n-1:n-1+r][index] == 1:\n",
    "            if list_pitch[sum(gpr6_temp[:m+index-1])] == list_pitch[sum(gpr6_temp[:n+index-1])]:\n",
    "                temp_out += 1\n",
    "    return temp_out\n",
    "\n",
    "def G(m,n,r):\n",
    "    if 1<=m and 1<=n and m<=L-r+1 and n<=L-r+1 and 1<=r and r<=L:\n",
    "        return (((1-Wm)*O(m,n,r)/(N(m,r)+N(n,r)))+(Wm*P(m,n,r)/O(m,n,r)))*r**Wl\n",
    "    else:\n",
    "        return 0"
   ]
  },
  {
   "cell_type": "code",
   "execution_count": 66,
   "metadata": {
    "collapsed": false
   },
   "outputs": [],
   "source": [
    "# i is a note, maybe from gpr6_temp\n",
    "def beat(i):\n",
    "    return i\n",
    "\n",
    "# m start with 1\n",
    "def head(m,r):\n",
    "    if r==0:\n",
    "        return -1\n",
    "    if gpr6_temp[m-1]==1:\n",
    "        return m\n",
    "    else:\n",
    "        return head(m+1,r-1)\n",
    "\n",
    "def tail(m,r):\n",
    "    if r==0:\n",
    "        return -1\n",
    "    if gpr6_temp[m-2+r]==1:\n",
    "        return m+r-1\n",
    "    else:\n",
    "        return tail(m,r-1)"
   ]
  },
  {
   "cell_type": "code",
   "execution_count": 67,
   "metadata": {
    "collapsed": false
   },
   "outputs": [],
   "source": [
    "def b(i,r):\n",
    "    if i == head(beat(i),r) and i != tail(beat(i),r):\n",
    "        return True\n",
    "    else:\n",
    "        return False\n",
    "\n",
    "def e(i,r):\n",
    "    if i != head(beat(i),r) and i == tail(beat(i),r):\n",
    "        return True\n",
    "    else:\n",
    "        return False\n",
    "\n",
    "def t(i,r):\n",
    "    if i == head(beat(i),r) and i == tail(beat(i),r):\n",
    "        return True\n",
    "    else:\n",
    "        return False\n"
   ]
  },
  {
   "cell_type": "code",
   "execution_count": 68,
   "metadata": {
    "collapsed": false
   },
   "outputs": [],
   "source": [
    "def A(i):\n",
    "    out = 0\n",
    "    for n in range(1,L+1):\n",
    "        for r in range(1,L/2+1):\n",
    "            if b(i,r) and N(n,1) >= 1:\n",
    "                out += G(beat(i),n,r)*(1-Ws)\n",
    "            elif e(i,r) and N(n,1) >= 1:\n",
    "                out += G(beat(i)-r,n-r,r)*Ws\n",
    "            elif t(i,r) and N(n,1) >= 1:\n",
    "                out += G(beat(i),n,r)*(1-Ws) + G(beat(i)-r,n-r,r)*Ws\n",
    "            else:\n",
    "                out += 0\n",
    "    return out"
   ]
  },
  {
   "cell_type": "code",
   "execution_count": 73,
   "metadata": {
    "collapsed": false
   },
   "outputs": [
    {
     "ename": "ZeroDivisionError",
     "evalue": "float division by zero",
     "output_type": "error",
     "traceback": [
      "\u001b[0;31m\u001b[0m",
      "\u001b[0;31mZeroDivisionError\u001b[0mTraceback (most recent call last)",
      "\u001b[0;32m<ipython-input-73-ee9685ec52ef>\u001b[0m in \u001b[0;36m<module>\u001b[0;34m()\u001b[0m\n\u001b[1;32m      1\u001b[0m \u001b[0;34m\u001b[0m\u001b[0m\n\u001b[0;32m----> 2\u001b[0;31m \u001b[0;32mprint\u001b[0m \u001b[0mmax\u001b[0m\u001b[0;34m(\u001b[0m\u001b[0;34m[\u001b[0m\u001b[0mA\u001b[0m\u001b[0;34m(\u001b[0m\u001b[0mx\u001b[0m\u001b[0;34m)\u001b[0m \u001b[0;32mfor\u001b[0m \u001b[0mx\u001b[0m \u001b[0;32min\u001b[0m \u001b[0mrange\u001b[0m\u001b[0;34m(\u001b[0m\u001b[0;36m1\u001b[0m\u001b[0;34m,\u001b[0m\u001b[0mN\u001b[0m\u001b[0;34m(\u001b[0m\u001b[0;36m1\u001b[0m\u001b[0;34m,\u001b[0m\u001b[0mL\u001b[0m\u001b[0;34m)\u001b[0m\u001b[0;34m+\u001b[0m\u001b[0;36m1\u001b[0m\u001b[0;34m)\u001b[0m\u001b[0;34m]\u001b[0m\u001b[0;34m)\u001b[0m\u001b[0;34m\u001b[0m\u001b[0m\n\u001b[0m",
      "\u001b[0;32m<ipython-input-68-41fd3b93d1ab>\u001b[0m in \u001b[0;36mA\u001b[0;34m(i)\u001b[0m\n\u001b[1;32m      8\u001b[0m                 \u001b[0mout\u001b[0m \u001b[0;34m+=\u001b[0m \u001b[0mG\u001b[0m\u001b[0;34m(\u001b[0m\u001b[0mbeat\u001b[0m\u001b[0;34m(\u001b[0m\u001b[0mi\u001b[0m\u001b[0;34m)\u001b[0m\u001b[0;34m-\u001b[0m\u001b[0mr\u001b[0m\u001b[0;34m,\u001b[0m\u001b[0mn\u001b[0m\u001b[0;34m-\u001b[0m\u001b[0mr\u001b[0m\u001b[0;34m,\u001b[0m\u001b[0mr\u001b[0m\u001b[0;34m)\u001b[0m\u001b[0;34m*\u001b[0m\u001b[0mWs\u001b[0m\u001b[0;34m\u001b[0m\u001b[0m\n\u001b[1;32m      9\u001b[0m             \u001b[0;32melif\u001b[0m \u001b[0mt\u001b[0m\u001b[0;34m(\u001b[0m\u001b[0mi\u001b[0m\u001b[0;34m,\u001b[0m\u001b[0mr\u001b[0m\u001b[0;34m)\u001b[0m \u001b[0;32mand\u001b[0m \u001b[0mN\u001b[0m\u001b[0;34m(\u001b[0m\u001b[0mn\u001b[0m\u001b[0;34m,\u001b[0m\u001b[0;36m1\u001b[0m\u001b[0;34m)\u001b[0m \u001b[0;34m>=\u001b[0m \u001b[0;36m1\u001b[0m\u001b[0;34m:\u001b[0m\u001b[0;34m\u001b[0m\u001b[0m\n\u001b[0;32m---> 10\u001b[0;31m                 \u001b[0mout\u001b[0m \u001b[0;34m+=\u001b[0m \u001b[0mG\u001b[0m\u001b[0;34m(\u001b[0m\u001b[0mbeat\u001b[0m\u001b[0;34m(\u001b[0m\u001b[0mi\u001b[0m\u001b[0;34m)\u001b[0m\u001b[0;34m,\u001b[0m\u001b[0mn\u001b[0m\u001b[0;34m,\u001b[0m\u001b[0mr\u001b[0m\u001b[0;34m)\u001b[0m\u001b[0;34m*\u001b[0m\u001b[0;34m(\u001b[0m\u001b[0;36m1\u001b[0m\u001b[0;34m-\u001b[0m\u001b[0mWs\u001b[0m\u001b[0;34m)\u001b[0m \u001b[0;34m+\u001b[0m \u001b[0mG\u001b[0m\u001b[0;34m(\u001b[0m\u001b[0mbeat\u001b[0m\u001b[0;34m(\u001b[0m\u001b[0mi\u001b[0m\u001b[0;34m)\u001b[0m\u001b[0;34m-\u001b[0m\u001b[0mr\u001b[0m\u001b[0;34m,\u001b[0m\u001b[0mn\u001b[0m\u001b[0;34m-\u001b[0m\u001b[0mr\u001b[0m\u001b[0;34m,\u001b[0m\u001b[0mr\u001b[0m\u001b[0;34m)\u001b[0m\u001b[0;34m*\u001b[0m\u001b[0mWs\u001b[0m\u001b[0;34m\u001b[0m\u001b[0m\n\u001b[0m\u001b[1;32m     11\u001b[0m             \u001b[0;32melse\u001b[0m\u001b[0;34m:\u001b[0m\u001b[0;34m\u001b[0m\u001b[0m\n\u001b[1;32m     12\u001b[0m                 \u001b[0mout\u001b[0m \u001b[0;34m+=\u001b[0m \u001b[0;36m0\u001b[0m\u001b[0;34m\u001b[0m\u001b[0m\n",
      "\u001b[0;32m<ipython-input-65-eba07bcf7d83>\u001b[0m in \u001b[0;36mG\u001b[0;34m(m, n, r)\u001b[0m\n\u001b[1;32m     41\u001b[0m \u001b[0;32mdef\u001b[0m \u001b[0mG\u001b[0m\u001b[0;34m(\u001b[0m\u001b[0mm\u001b[0m\u001b[0;34m,\u001b[0m\u001b[0mn\u001b[0m\u001b[0;34m,\u001b[0m\u001b[0mr\u001b[0m\u001b[0;34m)\u001b[0m\u001b[0;34m:\u001b[0m\u001b[0;34m\u001b[0m\u001b[0m\n\u001b[1;32m     42\u001b[0m     \u001b[0;32mif\u001b[0m \u001b[0;36m1\u001b[0m\u001b[0;34m<=\u001b[0m\u001b[0mm\u001b[0m \u001b[0;32mand\u001b[0m \u001b[0;36m1\u001b[0m\u001b[0;34m<=\u001b[0m\u001b[0mn\u001b[0m \u001b[0;32mand\u001b[0m \u001b[0mm\u001b[0m\u001b[0;34m<=\u001b[0m\u001b[0mL\u001b[0m\u001b[0;34m-\u001b[0m\u001b[0mr\u001b[0m\u001b[0;34m+\u001b[0m\u001b[0;36m1\u001b[0m \u001b[0;32mand\u001b[0m \u001b[0mn\u001b[0m\u001b[0;34m<=\u001b[0m\u001b[0mL\u001b[0m\u001b[0;34m-\u001b[0m\u001b[0mr\u001b[0m\u001b[0;34m+\u001b[0m\u001b[0;36m1\u001b[0m \u001b[0;32mand\u001b[0m \u001b[0;36m1\u001b[0m\u001b[0;34m<=\u001b[0m\u001b[0mr\u001b[0m \u001b[0;32mand\u001b[0m \u001b[0mr\u001b[0m\u001b[0;34m<=\u001b[0m\u001b[0mL\u001b[0m\u001b[0;34m:\u001b[0m\u001b[0;34m\u001b[0m\u001b[0m\n\u001b[0;32m---> 43\u001b[0;31m         \u001b[0;32mreturn\u001b[0m \u001b[0;34m(\u001b[0m\u001b[0;34m(\u001b[0m\u001b[0;34m(\u001b[0m\u001b[0;36m1\u001b[0m\u001b[0;34m-\u001b[0m\u001b[0mWm\u001b[0m\u001b[0;34m)\u001b[0m\u001b[0;34m*\u001b[0m\u001b[0mO\u001b[0m\u001b[0;34m(\u001b[0m\u001b[0mm\u001b[0m\u001b[0;34m,\u001b[0m\u001b[0mn\u001b[0m\u001b[0;34m,\u001b[0m\u001b[0mr\u001b[0m\u001b[0;34m)\u001b[0m\u001b[0;34m/\u001b[0m\u001b[0;34m(\u001b[0m\u001b[0mN\u001b[0m\u001b[0;34m(\u001b[0m\u001b[0mm\u001b[0m\u001b[0;34m,\u001b[0m\u001b[0mr\u001b[0m\u001b[0;34m)\u001b[0m\u001b[0;34m+\u001b[0m\u001b[0mN\u001b[0m\u001b[0;34m(\u001b[0m\u001b[0mn\u001b[0m\u001b[0;34m,\u001b[0m\u001b[0mr\u001b[0m\u001b[0;34m)\u001b[0m\u001b[0;34m)\u001b[0m\u001b[0;34m)\u001b[0m\u001b[0;34m+\u001b[0m\u001b[0;34m(\u001b[0m\u001b[0mWm\u001b[0m\u001b[0;34m*\u001b[0m\u001b[0mP\u001b[0m\u001b[0;34m(\u001b[0m\u001b[0mm\u001b[0m\u001b[0;34m,\u001b[0m\u001b[0mn\u001b[0m\u001b[0;34m,\u001b[0m\u001b[0mr\u001b[0m\u001b[0;34m)\u001b[0m\u001b[0;34m/\u001b[0m\u001b[0mO\u001b[0m\u001b[0;34m(\u001b[0m\u001b[0mm\u001b[0m\u001b[0;34m,\u001b[0m\u001b[0mn\u001b[0m\u001b[0;34m,\u001b[0m\u001b[0mr\u001b[0m\u001b[0;34m)\u001b[0m\u001b[0;34m)\u001b[0m\u001b[0;34m)\u001b[0m\u001b[0;34m*\u001b[0m\u001b[0mr\u001b[0m\u001b[0;34m**\u001b[0m\u001b[0mWl\u001b[0m\u001b[0;34m\u001b[0m\u001b[0m\n\u001b[0m\u001b[1;32m     44\u001b[0m     \u001b[0;32melse\u001b[0m\u001b[0;34m:\u001b[0m\u001b[0;34m\u001b[0m\u001b[0m\n\u001b[1;32m     45\u001b[0m         \u001b[0;32mreturn\u001b[0m \u001b[0;36m0\u001b[0m\u001b[0;34m\u001b[0m\u001b[0m\n",
      "\u001b[0;31mZeroDivisionError\u001b[0m: float division by zero"
     ]
    }
   ],
   "source": [
    "\n",
    "print max([A(x) for x in range(1,N(1,L)+1)])"
   ]
  },
  {
   "cell_type": "code",
   "execution_count": null,
   "metadata": {
    "collapsed": true
   },
   "outputs": [],
   "source": []
  }
 ],
 "metadata": {
  "anaconda-cloud": {},
  "kernelspec": {
   "display_name": "Python [Root]",
   "language": "python",
   "name": "Python [Root]"
  },
  "language_info": {
   "codemirror_mode": {
    "name": "ipython",
    "version": 2
   },
   "file_extension": ".py",
   "mimetype": "text/x-python",
   "name": "python",
   "nbconvert_exporter": "python",
   "pygments_lexer": "ipython2",
   "version": "2.7.12"
  },
  "nbpresent": {
   "slides": {},
   "themes": {
    "default": "465fa7ec-0d0e-4e9a-80b4-f8872d4c2fea",
    "theme": {
     "465fa7ec-0d0e-4e9a-80b4-f8872d4c2fea": {
      "backgrounds": {
       "backgroundColor": {
        "background-color": "backgroundColor",
        "id": "backgroundColor"
       }
      },
      "id": "465fa7ec-0d0e-4e9a-80b4-f8872d4c2fea",
      "palette": {
       "backgroundColor": {
        "id": "backgroundColor",
        "rgb": [
         34,
         34,
         34
        ]
       },
       "headingColor": {
        "id": "headingColor",
        "rgb": [
         238,
         238,
         238
        ]
       },
       "linkColor": {
        "id": "linkColor",
        "rgb": [
         170,
         34,
         51
        ]
       },
       "mainColor": {
        "id": "mainColor",
        "rgb": [
         238,
         238,
         238
        ]
       }
      },
      "rules": {
       "a": {
        "color": "linkColor"
       },
       "h1": {
        "color": "headingColor",
        "font-family": "Ubuntu",
        "font-size": 7
       },
       "h2": {
        "color": "headingColor",
        "font-family": "Ubuntu",
        "font-size": 5
       },
       "h3": {
        "color": "headingColor",
        "font-family": "Ubuntu",
        "font-size": 3.75
       },
       "h4": {
        "color": "headingColor",
        "font-family": "Ubuntu",
        "font-size": 3
       },
       "h5": {
        "color": "headingColor",
        "font-family": "Ubuntu"
       },
       "h6": {
        "color": "headingColor",
        "font-family": "Ubuntu"
       },
       "h7": {
        "color": "headingColor",
        "font-family": "Ubuntu"
       },
       "li": {
        "color": "mainColor",
        "font-family": "Ubuntu",
        "font-size": 5
       },
       "p": {
        "color": "mainColor",
        "font-family": "Ubuntu",
        "font-size": 5
       }
      },
      "text-base": {
       "color": "mainColor",
       "font-family": "Ubuntu",
       "font-size": 5
      }
     }
    }
   }
  }
 },
 "nbformat": 4,
 "nbformat_minor": 0
}
